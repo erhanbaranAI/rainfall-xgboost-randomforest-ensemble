{
 "cells": [
  {
   "cell_type": "code",
   "execution_count": 5,
   "id": "a235da7d-7e63-461e-90e7-781e57830dbb",
   "metadata": {},
   "outputs": [
    {
     "name": "stdout",
     "output_type": "stream",
     "text": [
      "✅ Yüklendi: train.csv - (2190, 13)\n",
      "✅ Yüklendi: test.csv - (730, 12)\n",
      "✅ Tahminler kaydedildi: catboost-submission.csv\n"
     ]
    }
   ],
   "source": [
    "import pandas as pd\n",
    "import numpy as np\n",
    "from sklearn.preprocessing import LabelEncoder\n",
    "from catboost import CatBoostClassifier\n",
    "from xgboost import XGBClassifier\n",
    "\n",
    "# 📌 1. Veri Hazırlama\n",
    "def preprocess_data(file_path, is_train=True):\n",
    "    df = pd.read_csv(file_path)\n",
    "    print(f\"✅ Yüklendi: {file_path} - {df.shape}\")\n",
    "\n",
    "    X = df.drop(columns=[\"id\"])\n",
    "    if is_train:\n",
    "        y = X.pop(\"rainfall\")\n",
    "    else:\n",
    "        y = None\n",
    "\n",
    "    for col in X.select_dtypes(include=\"object\").columns:\n",
    "        X[col] = LabelEncoder().fit_transform(X[col].astype(str))\n",
    "\n",
    "    return (X, y) if is_train else (X, df[\"id\"])\n",
    "\n",
    "# 📌 2. Tahmin ve Submission\n",
    "def predict_and_submit(cat_model, xgb_model, test_file, output_file=\"catboost-submission.csv\"):\n",
    "    X_test, ids = preprocess_data(test_file, is_train=False)\n",
    "\n",
    "    cat_preds = cat_model.predict_proba(X_test)[:, 1]\n",
    "    xgb_preds = xgb_model.predict_proba(X_test)[:, 1]\n",
    "\n",
    "    final_preds = (cat_preds + xgb_preds) / 2  # Basit ortalama\n",
    "\n",
    "    submission = pd.DataFrame({\"id\": ids, \"rainfall\": final_preds})\n",
    "    submission.to_csv(output_file, index=False)\n",
    "    print(f\"✅ Tahminler kaydedildi: {output_file}\")\n",
    "\n",
    "# 📌 Ana Akış\n",
    "if __name__ == \"__main__\":\n",
    "    train_path = \"train.csv\"\n",
    "    test_path = \"test.csv\"\n",
    "\n",
    "    X_train, y_train = preprocess_data(train_path, is_train=True)\n",
    "\n",
    "    # CatBoost\n",
    "    cat_model = CatBoostClassifier(verbose=0, random_state=42)\n",
    "    cat_model.fit(X_train, y_train)\n",
    "\n",
    "    # XGBoost\n",
    "    xgb_model = XGBClassifier(use_label_encoder=False, eval_metric=\"logloss\", random_state=42)\n",
    "    xgb_model.fit(X_train, y_train)\n",
    "\n",
    "    # Tahmin\n",
    "    predict_and_submit(cat_model, xgb_model, test_path)\n"
   ]
  },
  {
   "cell_type": "code",
   "execution_count": null,
   "id": "b5675c8d-2077-406b-8b70-a1e1893bf49a",
   "metadata": {},
   "outputs": [],
   "source": []
  }
 ],
 "metadata": {
  "kernelspec": {
   "display_name": "Python [conda env:base] *",
   "language": "python",
   "name": "conda-base-py"
  },
  "language_info": {
   "codemirror_mode": {
    "name": "ipython",
    "version": 3
   },
   "file_extension": ".py",
   "mimetype": "text/x-python",
   "name": "python",
   "nbconvert_exporter": "python",
   "pygments_lexer": "ipython3",
   "version": "3.12.7"
  }
 },
 "nbformat": 4,
 "nbformat_minor": 5
}
